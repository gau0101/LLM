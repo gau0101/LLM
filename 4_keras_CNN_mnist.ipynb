{
  "nbformat": 4,
  "nbformat_minor": 0,
  "metadata": {
    "colab": {
      "provenance": []
    },
    "kernelspec": {
      "name": "python3",
      "display_name": "Python 3"
    },
    "language_info": {
      "name": "python"
    }
  },
  "cells": [
    {
      "cell_type": "markdown",
      "source": [
        "**4.keras_CNN_mnist.ipynb**"
      ],
      "metadata": {
        "id": "T1-GI3uO43Y-"
      }
    },
    {
      "cell_type": "code",
      "execution_count": 1,
      "metadata": {
        "colab": {
          "base_uri": "https://localhost:8080/"
        },
        "id": "3RFZg-SC43Bd",
        "outputId": "144644fc-b284-4a26-b3e7-74433089200d"
      },
      "outputs": [
        {
          "output_type": "stream",
          "name": "stdout",
          "text": [
            "Model: \"sequential\"\n",
            "_________________________________________________________________\n",
            " Layer (type)                Output Shape              Param #   \n",
            "=================================================================\n",
            " conv2d (Conv2D)             (None, 24, 24, 16)        416       \n",
            "                                                                 \n",
            " max_pooling2d (MaxPooling2  (None, 12, 12, 16)        0         \n",
            " D)                                                              \n",
            "                                                                 \n",
            " flatten (Flatten)           (None, 2304)              0         \n",
            "                                                                 \n",
            " dense (Dense)               (None, 10)                23050     \n",
            "                                                                 \n",
            "=================================================================\n",
            "Total params: 23466 (91.66 KB)\n",
            "Trainable params: 23466 (91.66 KB)\n",
            "Non-trainable params: 0 (0.00 Byte)\n",
            "_________________________________________________________________\n"
          ]
        }
      ],
      "source": [
        "from tensorflow import keras\n",
        "from keras.models import Sequential\n",
        "from keras.layers import Dense, Conv2D, MaxPooling2D, Flatten\n",
        "\n",
        "\n",
        "model=Sequential()\n",
        "## 增加一個卷積層，具有16個濾波器、5x5的捲積核，輸入形狀為(28, 28, 1)，並使用ReLU激活函數。\n",
        "model.add(Conv2D(filters=16, kernel_size=(5, 5), input_shape=(28, 28, 1), activation='relu'))\n",
        "model.add(MaxPooling2D(pool_size=(2, 2)))\n",
        "#model.add(Conv2D(filters=36, kernel_size=(5, 5), activation='relu'))\n",
        "#model.add(MaxPooling2D(pool_size=(2, 2)))\n",
        "model.add(Flatten()) # 新增一個Flatten層，用於將捲積層的輸出展平成一維向量。\n",
        "model.add(Dense(10, activation='softmax'))\n",
        "model.summary()\n",
        "# 列印模型的摘要，顯示模型結構和參數數量。\n",
        "model.compile(optimizer='rmsprop', loss='categorical_crossentropy', metrics=['accuracy'])\n",
        "# 使用RMSprop優化器、分類交叉熵損失和準確性度量來編譯模型。"
      ]
    }
  ]
}